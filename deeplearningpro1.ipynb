{
  "nbformat": 4,
  "nbformat_minor": 0,
  "metadata": {
    "colab": {
      "provenance": [],
      "authorship_tag": "ABX9TyMnOjP6II4m0BTeP6wQUtfA",
      "include_colab_link": true
    },
    "kernelspec": {
      "name": "python3",
      "display_name": "Python 3"
    },
    "language_info": {
      "name": "python"
    }
  },
  "cells": [
    {
      "cell_type": "markdown",
      "metadata": {
        "id": "view-in-github",
        "colab_type": "text"
      },
      "source": [
        "<a href=\"https://colab.research.google.com/github/divyaB32/deep-learning/blob/main/deeplearningpro1.ipynb\" target=\"_parent\"><img src=\"https://colab.research.google.com/assets/colab-badge.svg\" alt=\"Open In Colab\"/></a>"
      ]
    },
    {
      "cell_type": "code",
      "execution_count": null,
      "metadata": {
        "colab": {
          "base_uri": "https://localhost:8080/"
        },
        "id": "Akfd_YpJRvIv",
        "outputId": "e94f8ae1-add0-41e5-b1a7-e671e76e3d8f"
      },
      "outputs": [
        {
          "output_type": "stream",
          "name": "stdout",
          "text": [
            "Epoch 1\n",
            " Input: [0 0], Predicted: 1, Actual: 0, Updated Weights: [-0.1  0.   0. ]\n",
            " Input: [0 1], Predicted: 0, Actual: 1, Updated Weights: [0.  0.  0.1]\n",
            " Input: [1 0], Predicted: 1, Actual: 1, Updated Weights: [0.  0.  0.1]\n",
            " Input: [1 1], Predicted: 1, Actual: 1, Updated Weights: [0.  0.  0.1]\n",
            "Epoch 2\n",
            " Input: [0 0], Predicted: 1, Actual: 0, Updated Weights: [-0.1  0.   0.1]\n",
            " Input: [0 1], Predicted: 1, Actual: 1, Updated Weights: [-0.1  0.   0.1]\n",
            " Input: [1 0], Predicted: 0, Actual: 1, Updated Weights: [0.  0.1 0.1]\n",
            " Input: [1 1], Predicted: 1, Actual: 1, Updated Weights: [0.  0.1 0.1]\n",
            "Epoch 3\n",
            " Input: [0 0], Predicted: 1, Actual: 0, Updated Weights: [-0.1  0.1  0.1]\n",
            " Input: [0 1], Predicted: 1, Actual: 1, Updated Weights: [-0.1  0.1  0.1]\n",
            " Input: [1 0], Predicted: 1, Actual: 1, Updated Weights: [-0.1  0.1  0.1]\n",
            " Input: [1 1], Predicted: 1, Actual: 1, Updated Weights: [-0.1  0.1  0.1]\n",
            "Epoch 4\n",
            " Input: [0 0], Predicted: 0, Actual: 0, Updated Weights: [-0.1  0.1  0.1]\n",
            " Input: [0 1], Predicted: 1, Actual: 1, Updated Weights: [-0.1  0.1  0.1]\n",
            " Input: [1 0], Predicted: 1, Actual: 1, Updated Weights: [-0.1  0.1  0.1]\n",
            " Input: [1 1], Predicted: 1, Actual: 1, Updated Weights: [-0.1  0.1  0.1]\n",
            "Epoch 5\n",
            " Input: [0 0], Predicted: 0, Actual: 0, Updated Weights: [-0.1  0.1  0.1]\n",
            " Input: [0 1], Predicted: 1, Actual: 1, Updated Weights: [-0.1  0.1  0.1]\n",
            " Input: [1 0], Predicted: 1, Actual: 1, Updated Weights: [-0.1  0.1  0.1]\n",
            " Input: [1 1], Predicted: 1, Actual: 1, Updated Weights: [-0.1  0.1  0.1]\n",
            "Epoch 6\n",
            " Input: [0 0], Predicted: 0, Actual: 0, Updated Weights: [-0.1  0.1  0.1]\n",
            " Input: [0 1], Predicted: 1, Actual: 1, Updated Weights: [-0.1  0.1  0.1]\n",
            " Input: [1 0], Predicted: 1, Actual: 1, Updated Weights: [-0.1  0.1  0.1]\n",
            " Input: [1 1], Predicted: 1, Actual: 1, Updated Weights: [-0.1  0.1  0.1]\n",
            "Epoch 7\n",
            " Input: [0 0], Predicted: 0, Actual: 0, Updated Weights: [-0.1  0.1  0.1]\n",
            " Input: [0 1], Predicted: 1, Actual: 1, Updated Weights: [-0.1  0.1  0.1]\n",
            " Input: [1 0], Predicted: 1, Actual: 1, Updated Weights: [-0.1  0.1  0.1]\n",
            " Input: [1 1], Predicted: 1, Actual: 1, Updated Weights: [-0.1  0.1  0.1]\n",
            "Epoch 8\n",
            " Input: [0 0], Predicted: 0, Actual: 0, Updated Weights: [-0.1  0.1  0.1]\n",
            " Input: [0 1], Predicted: 1, Actual: 1, Updated Weights: [-0.1  0.1  0.1]\n",
            " Input: [1 0], Predicted: 1, Actual: 1, Updated Weights: [-0.1  0.1  0.1]\n",
            " Input: [1 1], Predicted: 1, Actual: 1, Updated Weights: [-0.1  0.1  0.1]\n",
            "Epoch 9\n",
            " Input: [0 0], Predicted: 0, Actual: 0, Updated Weights: [-0.1  0.1  0.1]\n",
            " Input: [0 1], Predicted: 1, Actual: 1, Updated Weights: [-0.1  0.1  0.1]\n",
            " Input: [1 0], Predicted: 1, Actual: 1, Updated Weights: [-0.1  0.1  0.1]\n",
            " Input: [1 1], Predicted: 1, Actual: 1, Updated Weights: [-0.1  0.1  0.1]\n",
            "Epoch 10\n",
            " Input: [0 0], Predicted: 0, Actual: 0, Updated Weights: [-0.1  0.1  0.1]\n",
            " Input: [0 1], Predicted: 1, Actual: 1, Updated Weights: [-0.1  0.1  0.1]\n",
            " Input: [1 0], Predicted: 1, Actual: 1, Updated Weights: [-0.1  0.1  0.1]\n",
            " Input: [1 1], Predicted: 1, Actual: 1, Updated Weights: [-0.1  0.1  0.1]\n",
            "\n",
            "Final Predictions:\n",
            "Input: [0 0], Predicted Output: 0\n",
            "Input: [0 1], Predicted Output: 1\n",
            "Input: [1 0], Predicted Output: 1\n",
            "Input: [1 1], Predicted Output: 1\n"
          ]
        }
      ],
      "source": [
        "import numpy as np\n",
        "\n",
        "# Step 1: Define the activation function\n",
        "# This is a step function: returns 1 if input is >= 0, else returns 0\n",
        "def step_function(value):\n",
        "    return 1 if value >= 0 else 0\n",
        "\n",
        "# Step 2: Create the Perceptron class\n",
        "class Perceptron:\n",
        "    def __init__(self, input_size, learning_rate=0.1):\n",
        "        # Initialize weights (including one for bias)\n",
        "        self.weights = np.zeros(input_size + 1)  # weights = [0.0, 0.0, 0.0]\n",
        "        self.learning_rate = learning_rate\n",
        "\n",
        "    # Method to make predictions\n",
        "    def predict(self, inputs):\n",
        "        # Add 1 at the beginning of input to represent bias input\n",
        "        inputs_with_bias = np.insert(inputs, 0, 1)  # e.g., [1, x1, x2]\n",
        "        # Calculate the weighted sum\n",
        "        total = np.dot(self.weights, inputs_with_bias)\n",
        "        # Apply step function to decide output\n",
        "        return step_function(total)\n",
        "\n",
        "    # Method to train the perceptron\n",
        "    def train(self, X, y, epochs=10):\n",
        "        for epoch in range(epochs):\n",
        "            print(f\"Epoch {epoch+1}\")\n",
        "            for i in range(len(X)):\n",
        "                prediction = self.predict(X[i])  # Predict output\n",
        "                error = y[i] - prediction  # Calculate error\n",
        "                x_with_bias = np.insert(X[i], 0, 1)  # Add bias input\n",
        "                # Update weights using learning rule\n",
        "                self.weights += self.learning_rate * error * x_with_bias\n",
        "                print(f\" Input: {X[i]}, Predicted: {prediction}, Actual: {y[i]}, Updated Weights: {self.weights}\")\n",
        "\n",
        "# Step 3: Example usage\n",
        "if __name__ == \"__main__\":\n",
        "    # Training data for OR logic gate\n",
        "    X = np.array([\n",
        "        [0, 0],\n",
        "        [0, 1],\n",
        "        [1, 0],\n",
        "        [1, 1]\n",
        "    ])\n",
        "    y = np.array([0, 1, 1, 1])  # Correct output of OR gate\n",
        "\n",
        "    # Step 4: Create perceptron and train it\n",
        "    perceptron = Perceptron(input_size=2)\n",
        "    perceptron.train(X, y, epochs=10)\n",
        "\n",
        "    # Step 5: Test the trained perceptron\n",
        "    print(\"\\nFinal Predictions:\")\n",
        "    for x in X:\n",
        "        output = perceptron.predict(x)\n",
        "        print(f\"Input: {x}, Predicted Output: {output}\")\n"
      ]
    }
  ]
}